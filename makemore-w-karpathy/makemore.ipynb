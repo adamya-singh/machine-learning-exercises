{
  "cells": [
    {
      "cell_type": "markdown",
      "metadata": {
        "id": "view-in-github",
        "colab_type": "text"
      },
      "source": [
        "<a href=\"https://colab.research.google.com/github/adamya-singh/machine-learning-exercises/blob/master/makemore-w-karpathy/makemore.ipynb\" target=\"_parent\"><img src=\"https://colab.research.google.com/assets/colab-badge.svg\" alt=\"Open In Colab\"/></a>"
      ]
    },
    {
      "cell_type": "code",
      "source": [
        "# Import required libraries\n",
        "import requests\n",
        "\n",
        "# Download names.txt from the GitHub repository\n",
        "url = \"https://raw.githubusercontent.com/karpathy/makemore/master/names.txt\"\n",
        "response = requests.get(url)\n",
        "\n",
        "# Save the file to the Colab environment\n",
        "with open('names.txt', 'w') as f:\n",
        "    f.write(response.text)\n",
        "\n",
        "# Now read the file\n",
        "#with open('names.txt', 'r') as f:\n",
        "#    names = f.readlines()\n",
        "\n",
        "# Optional: Print the first few lines to verify\n",
        "#print(names[:5])"
      ],
      "metadata": {
        "id": "8HXYC9sA_JRT"
      },
      "execution_count": 2,
      "outputs": []
    },
    {
      "cell_type": "code",
      "execution_count": 4,
      "metadata": {
        "id": "DgMnCJ7t5IxU"
      },
      "outputs": [],
      "source": [
        "words = open('names.txt', 'r').read().splitlines()"
      ]
    },
    {
      "cell_type": "code",
      "source": [
        "print(words[:10])"
      ],
      "metadata": {
        "id": "HAwWuYOw_gGg",
        "outputId": "e9168a1a-6592-40f3-ef14-bde8f77f0471",
        "colab": {
          "base_uri": "https://localhost:8080/"
        }
      },
      "execution_count": 5,
      "outputs": [
        {
          "output_type": "stream",
          "name": "stdout",
          "text": [
            "['emma', 'olivia', 'ava', 'isabella', 'sophia', 'charlotte', 'mia', 'amelia', 'harper', 'evelyn']\n"
          ]
        }
      ]
    },
    {
      "cell_type": "code",
      "source": [
        "min(len(w) for w in words)"
      ],
      "metadata": {
        "id": "ft7BFlyd_pIj",
        "outputId": "8a7941ab-79e8-4bdc-99f2-ca1b02141acf",
        "colab": {
          "base_uri": "https://localhost:8080/"
        }
      },
      "execution_count": 6,
      "outputs": [
        {
          "output_type": "execute_result",
          "data": {
            "text/plain": [
              "2"
            ]
          },
          "metadata": {},
          "execution_count": 6
        }
      ]
    },
    {
      "cell_type": "code",
      "source": [
        "max(len(w) for w in words)"
      ],
      "metadata": {
        "id": "03KuukG2_wPj",
        "outputId": "8e072bf7-5b08-47cf-a3b5-bea3a01cf2dd",
        "colab": {
          "base_uri": "https://localhost:8080/"
        }
      },
      "execution_count": 7,
      "outputs": [
        {
          "output_type": "execute_result",
          "data": {
            "text/plain": [
              "15"
            ]
          },
          "metadata": {},
          "execution_count": 7
        }
      ]
    },
    {
      "cell_type": "code",
      "source": [],
      "metadata": {
        "id": "y0pntdIf_xEN"
      },
      "execution_count": null,
      "outputs": []
    }
  ],
  "metadata": {
    "kernelspec": {
      "display_name": "Python 3",
      "name": "python3"
    },
    "language_info": {
      "codemirror_mode": {
        "name": "ipython",
        "version": 3
      },
      "file_extension": ".py",
      "mimetype": "text/x-python",
      "name": "python",
      "nbconvert_exporter": "python",
      "pygments_lexer": "ipython3",
      "version": "3.12.8"
    },
    "colab": {
      "provenance": [],
      "include_colab_link": true
    }
  },
  "nbformat": 4,
  "nbformat_minor": 0
}